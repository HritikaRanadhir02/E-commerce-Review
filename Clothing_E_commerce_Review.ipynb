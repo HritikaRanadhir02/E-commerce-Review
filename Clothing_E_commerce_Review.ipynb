{
  "nbformat": 4,
  "nbformat_minor": 0,
  "metadata": {
    "colab": {
      "name": "Clothing E-commerce Review.ipynb",
      "provenance": []
    },
    "kernelspec": {
      "name": "python3",
      "display_name": "Python 3"
    },
    "language_info": {
      "name": "python"
    }
  },
  "cells": [
    {
      "cell_type": "code",
      "metadata": {
        "id": "9TrJ9otAb2Iu"
      },
      "source": [
        "import numpy as np # linear algebra\n",
        "import pandas as pd # data processing, CSV file I/O (e.g. pd.read_csv)\n",
        "import sys\n",
        "# Input data files are available in the read-only \"../input/\" directory\n",
        "# For example, running this (by clicking run or pressing Shift+Enter) will list all files under the input directory\n",
        "\n",
        "import os\n",
        "# for dirname, _, filenames in os.walk('/kaggle/input'):\n",
        " #   for filename in filenames:\n",
        "  #      print(os.path.join(dirname, filename))\n",
        "\n",
        "import warnings\n",
        "warnings.filterwarnings('ignore')\n"
      ],
      "execution_count": null,
      "outputs": []
    },
    {
      "cell_type": "code",
      "metadata": {
        "colab": {
          "base_uri": "https://localhost:8080/",
          "height": 615
        },
        "id": "iFFTCTjJb4LO",
        "outputId": "ed9c1530-f0d0-4669-ab06-5a23d22958e7"
      },
      "source": [
        "df1 = pd.read_csv('Womens Clothing E-Commerce Reviews.csv')\n",
        "df = df1[['Review Text', 'Rating', 'Class Name', 'Age']]\n",
        "df1.head()"
      ],
      "execution_count": null,
      "outputs": [
        {
          "output_type": "execute_result",
          "data": {
            "text/html": [
              "<div>\n",
              "<style scoped>\n",
              "    .dataframe tbody tr th:only-of-type {\n",
              "        vertical-align: middle;\n",
              "    }\n",
              "\n",
              "    .dataframe tbody tr th {\n",
              "        vertical-align: top;\n",
              "    }\n",
              "\n",
              "    .dataframe thead th {\n",
              "        text-align: right;\n",
              "    }\n",
              "</style>\n",
              "<table border=\"1\" class=\"dataframe\">\n",
              "  <thead>\n",
              "    <tr style=\"text-align: right;\">\n",
              "      <th></th>\n",
              "      <th>Unnamed: 0</th>\n",
              "      <th>Clothing ID</th>\n",
              "      <th>Age</th>\n",
              "      <th>Title</th>\n",
              "      <th>Review Text</th>\n",
              "      <th>Rating</th>\n",
              "      <th>Recommended IND</th>\n",
              "      <th>Positive Feedback Count</th>\n",
              "      <th>Division Name</th>\n",
              "      <th>Department Name</th>\n",
              "      <th>Class Name</th>\n",
              "    </tr>\n",
              "  </thead>\n",
              "  <tbody>\n",
              "    <tr>\n",
              "      <th>0</th>\n",
              "      <td>0</td>\n",
              "      <td>767</td>\n",
              "      <td>33</td>\n",
              "      <td>NaN</td>\n",
              "      <td>Absolutely wonderful - silky and sexy and comf...</td>\n",
              "      <td>4</td>\n",
              "      <td>1</td>\n",
              "      <td>0</td>\n",
              "      <td>Initmates</td>\n",
              "      <td>Intimate</td>\n",
              "      <td>Intimates</td>\n",
              "    </tr>\n",
              "    <tr>\n",
              "      <th>1</th>\n",
              "      <td>1</td>\n",
              "      <td>1080</td>\n",
              "      <td>34</td>\n",
              "      <td>NaN</td>\n",
              "      <td>Love this dress!  it's sooo pretty.  i happene...</td>\n",
              "      <td>5</td>\n",
              "      <td>1</td>\n",
              "      <td>4</td>\n",
              "      <td>General</td>\n",
              "      <td>Dresses</td>\n",
              "      <td>Dresses</td>\n",
              "    </tr>\n",
              "    <tr>\n",
              "      <th>2</th>\n",
              "      <td>2</td>\n",
              "      <td>1077</td>\n",
              "      <td>60</td>\n",
              "      <td>Some major design flaws</td>\n",
              "      <td>I had such high hopes for this dress and reall...</td>\n",
              "      <td>3</td>\n",
              "      <td>0</td>\n",
              "      <td>0</td>\n",
              "      <td>General</td>\n",
              "      <td>Dresses</td>\n",
              "      <td>Dresses</td>\n",
              "    </tr>\n",
              "    <tr>\n",
              "      <th>3</th>\n",
              "      <td>3</td>\n",
              "      <td>1049</td>\n",
              "      <td>50</td>\n",
              "      <td>My favorite buy!</td>\n",
              "      <td>I love, love, love this jumpsuit. it's fun, fl...</td>\n",
              "      <td>5</td>\n",
              "      <td>1</td>\n",
              "      <td>0</td>\n",
              "      <td>General Petite</td>\n",
              "      <td>Bottoms</td>\n",
              "      <td>Pants</td>\n",
              "    </tr>\n",
              "    <tr>\n",
              "      <th>4</th>\n",
              "      <td>4</td>\n",
              "      <td>847</td>\n",
              "      <td>47</td>\n",
              "      <td>Flattering shirt</td>\n",
              "      <td>This shirt is very flattering to all due to th...</td>\n",
              "      <td>5</td>\n",
              "      <td>1</td>\n",
              "      <td>6</td>\n",
              "      <td>General</td>\n",
              "      <td>Tops</td>\n",
              "      <td>Blouses</td>\n",
              "    </tr>\n",
              "  </tbody>\n",
              "</table>\n",
              "</div>"
            ],
            "text/plain": [
              "   Unnamed: 0  Clothing ID  Age  ...   Division Name Department Name  Class Name\n",
              "0           0          767   33  ...       Initmates        Intimate   Intimates\n",
              "1           1         1080   34  ...         General         Dresses     Dresses\n",
              "2           2         1077   60  ...         General         Dresses     Dresses\n",
              "3           3         1049   50  ...  General Petite         Bottoms       Pants\n",
              "4           4          847   47  ...         General            Tops     Blouses\n",
              "\n",
              "[5 rows x 11 columns]"
            ]
          },
          "metadata": {
            "tags": []
          },
          "execution_count": 3
        }
      ]
    },
    {
      "cell_type": "code",
      "metadata": {
        "colab": {
          "base_uri": "https://localhost:8080/",
          "height": 306
        },
        "id": "OK2P8-Ice1bt",
        "outputId": "cae7c94a-31d1-4e80-dcc4-f2b7bc15aec5"
      },
      "source": [
        "# Importing CountVectorizer() \n",
        "from sklearn.feature_extraction.text import CountVectorizer\n",
        "\n",
        "\n",
        "# fill the NA values by space \n",
        "df['Review Text'] = df['Review Text'].fillna('')\n",
        "\n",
        "# Count Vectorizer() convert a collection of text\n",
        "# to a matrix of token count \n",
        "vectorizer = CountVectorizer() \n",
        "\n",
        "# Assigning a hosrter name for the analysze tokenizes the string \n",
        "analyzer = vectorizer.build_analyzer()\n",
        "\n",
        "def wordcounts(s):\n",
        "    c = {}\n",
        "    # tokenize the string and continue, if it is not empty \n",
        "    if analyzer(s):\n",
        "        d = {}\n",
        "        # Find counts of vocabularies and transform to arrays \n",
        "        w = vectorizer.fit_transform([s]).toarray()\n",
        "        # Vocabulary and index (index of w)\n",
        "        vc = vectorizer.vocabulary_\n",
        "        # item's transform the dictionary's (word, index) tuple pairs \n",
        "        for k, v in vc.items(): \n",
        "            d[v] = k  # d --> index: work\n",
        "        for index, i in enumerate(w[0]):\n",
        "            c[d[index]] = i  # c -> word: count \n",
        "    return c\n",
        "\n",
        "# add new column to the dataframe \n",
        "df['Word Counts'] = df['Review Text'].apply(wordcounts)\n",
        "df.head()"
      ],
      "execution_count": null,
      "outputs": [
        {
          "output_type": "execute_result",
          "data": {
            "text/html": [
              "<div>\n",
              "<style scoped>\n",
              "    .dataframe tbody tr th:only-of-type {\n",
              "        vertical-align: middle;\n",
              "    }\n",
              "\n",
              "    .dataframe tbody tr th {\n",
              "        vertical-align: top;\n",
              "    }\n",
              "\n",
              "    .dataframe thead th {\n",
              "        text-align: right;\n",
              "    }\n",
              "</style>\n",
              "<table border=\"1\" class=\"dataframe\">\n",
              "  <thead>\n",
              "    <tr style=\"text-align: right;\">\n",
              "      <th></th>\n",
              "      <th>Review Text</th>\n",
              "      <th>Rating</th>\n",
              "      <th>Class Name</th>\n",
              "      <th>Age</th>\n",
              "      <th>Word Counts</th>\n",
              "    </tr>\n",
              "  </thead>\n",
              "  <tbody>\n",
              "    <tr>\n",
              "      <th>0</th>\n",
              "      <td>Absolutely wonderful - silky and sexy and comf...</td>\n",
              "      <td>4</td>\n",
              "      <td>Intimates</td>\n",
              "      <td>33</td>\n",
              "      <td>{'absolutely': 1, 'and': 2, 'comfortable': 1, ...</td>\n",
              "    </tr>\n",
              "    <tr>\n",
              "      <th>1</th>\n",
              "      <td>Love this dress!  it's sooo pretty.  i happene...</td>\n",
              "      <td>5</td>\n",
              "      <td>Dresses</td>\n",
              "      <td>34</td>\n",
              "      <td>{'am': 1, 'and': 2, 'bc': 2, 'be': 1, 'below':...</td>\n",
              "    </tr>\n",
              "    <tr>\n",
              "      <th>2</th>\n",
              "      <td>I had such high hopes for this dress and reall...</td>\n",
              "      <td>3</td>\n",
              "      <td>Dresses</td>\n",
              "      <td>60</td>\n",
              "      <td>{'and': 3, 'be': 1, 'bottom': 1, 'but': 2, 'ch...</td>\n",
              "    </tr>\n",
              "    <tr>\n",
              "      <th>3</th>\n",
              "      <td>I love, love, love this jumpsuit. it's fun, fl...</td>\n",
              "      <td>5</td>\n",
              "      <td>Pants</td>\n",
              "      <td>50</td>\n",
              "      <td>{'and': 1, 'but': 1, 'compliments': 1, 'every'...</td>\n",
              "    </tr>\n",
              "    <tr>\n",
              "      <th>4</th>\n",
              "      <td>This shirt is very flattering to all due to th...</td>\n",
              "      <td>5</td>\n",
              "      <td>Blouses</td>\n",
              "      <td>47</td>\n",
              "      <td>{'adjustable': 1, 'all': 1, 'and': 1, 'any': 1...</td>\n",
              "    </tr>\n",
              "  </tbody>\n",
              "</table>\n",
              "</div>"
            ],
            "text/plain": [
              "                                         Review Text  ...                                        Word Counts\n",
              "0  Absolutely wonderful - silky and sexy and comf...  ...  {'absolutely': 1, 'and': 2, 'comfortable': 1, ...\n",
              "1  Love this dress!  it's sooo pretty.  i happene...  ...  {'am': 1, 'and': 2, 'bc': 2, 'be': 1, 'below':...\n",
              "2  I had such high hopes for this dress and reall...  ...  {'and': 3, 'be': 1, 'bottom': 1, 'but': 2, 'ch...\n",
              "3  I love, love, love this jumpsuit. it's fun, fl...  ...  {'and': 1, 'but': 1, 'compliments': 1, 'every'...\n",
              "4  This shirt is very flattering to all due to th...  ...  {'adjustable': 1, 'all': 1, 'and': 1, 'any': 1...\n",
              "\n",
              "[5 rows x 5 columns]"
            ]
          },
          "metadata": {
            "tags": []
          },
          "execution_count": 4
        }
      ]
    },
    {
      "cell_type": "code",
      "metadata": {
        "id": "VwCgMzfEe1So"
      },
      "source": [
        "from sklearn.model_selection import train_test_split\n",
        "# Rating of 4 or higher -> positive, while the ones with \n",
        "# Rating of 2 or lower -> negative \n",
        "# Rating of 3 -> neutral \n",
        "\n",
        "df = df[df['Rating'] != 3]\n",
        "df['Sentiment'] = df['Rating'] >= 4\n",
        "df.head() \n",
        "\n",
        "# split data \n",
        "train_data, test_data = train_test_split(df, train_size=0.8, random_state = 0)\n",
        "\n",
        "# Select the columns and prepare data for the models \n",
        "X_train = vectorizer.fit_transform(train_data['Review Text'])\n",
        "y_train = train_data['Sentiment']\n",
        "\n",
        "X_test = vectorizer.transform(test_data['Review Text'])\n",
        "y_test = test_data['Sentiment']"
      ],
      "execution_count": null,
      "outputs": []
    },
    {
      "cell_type": "code",
      "metadata": {
        "colab": {
          "base_uri": "https://localhost:8080/"
        },
        "id": "L0NmMHGze1J8",
        "outputId": "e0390e2e-2e8a-4567-9002-3c59dd4b4f22"
      },
      "source": [
        "import datetime as dt\n",
        "from sklearn.linear_model import LogisticRegression\n",
        "from sklearn.metrics import accuracy_score\n",
        "\n",
        "start = dt.datetime.now() \n",
        "lr = LogisticRegression() \n",
        "lr.fit(X_train, y_train)\n",
        "print('Elapsed Time: ', str(dt.datetime.now() - start))"
      ],
      "execution_count": null,
      "outputs": [
        {
          "output_type": "stream",
          "text": [
            "Elapsed Time:  0:00:01.200952\n"
          ],
          "name": "stdout"
        }
      ]
    },
    {
      "cell_type": "code",
      "metadata": {
        "colab": {
          "base_uri": "https://localhost:8080/"
        },
        "id": "1A9hAxhqfONn",
        "outputId": "4379df69-a2d7-4997-b616-ad3ae1c6a39a"
      },
      "source": [
        "from sklearn.naive_bayes import MultinomialNB\n",
        "start = dt.datetime.now() \n",
        "nb = MultinomialNB() \n",
        "nb.fit(X_train, y_train)\n",
        "print('Elapsed Time: ', str(dt.datetime.now() - start))"
      ],
      "execution_count": null,
      "outputs": [
        {
          "output_type": "stream",
          "text": [
            "Elapsed Time:  0:00:00.011040\n"
          ],
          "name": "stdout"
        }
      ]
    },
    {
      "cell_type": "code",
      "metadata": {
        "colab": {
          "base_uri": "https://localhost:8080/"
        },
        "id": "q41xiy_Re1B-",
        "outputId": "d88eca70-409b-459a-db29-05933b1ba1aa"
      },
      "source": [
        "from sklearn.svm import SVC\n",
        "svm = SVC() \n",
        "svm.fit(X_train, y_train)\n",
        "print('Elapsed Time: ', str(dt.datetime.now() - start))"
      ],
      "execution_count": null,
      "outputs": [
        {
          "output_type": "stream",
          "text": [
            "Elapsed Time:  0:00:57.648433\n"
          ],
          "name": "stdout"
        }
      ]
    },
    {
      "cell_type": "code",
      "metadata": {
        "colab": {
          "base_uri": "https://localhost:8080/"
        },
        "id": "MGcpG5QcfhSB",
        "outputId": "5fd66544-58c9-4e47-db15-454ec9c5321c"
      },
      "source": [
        "from sklearn.neural_network import MLPClassifier\n",
        "nn = MLPClassifier() \n",
        "nn.fit(X_train, y_train)\n",
        "print('Elapsed Time: ', str(dt.datetime.now() - start))"
      ],
      "execution_count": null,
      "outputs": [
        {
          "output_type": "stream",
          "text": [
            "Elapsed Time:  0:03:04.834636\n"
          ],
          "name": "stdout"
        }
      ]
    },
    {
      "cell_type": "code",
      "metadata": {
        "colab": {
          "base_uri": "https://localhost:8080/",
          "height": 306
        },
        "id": "9nEBEP4ogH2w",
        "outputId": "c2007115-b7cd-4211-ff24-e02963fe3165"
      },
      "source": [
        "# Adding Results to the Dataframe\n",
        "\n",
        "df2 = test_data.copy() \n",
        "df2['Logistic Regression'] = lr.predict(X_test)\n",
        "df2['Naive Bayes'] = nb.predict(X_test)\n",
        "df2['SVM'] = svm.predict(X_test)\n",
        "df2['Neural Network'] = nn.predict(X_test)\n",
        "df2.head()"
      ],
      "execution_count": null,
      "outputs": [
        {
          "output_type": "execute_result",
          "data": {
            "text/html": [
              "<div>\n",
              "<style scoped>\n",
              "    .dataframe tbody tr th:only-of-type {\n",
              "        vertical-align: middle;\n",
              "    }\n",
              "\n",
              "    .dataframe tbody tr th {\n",
              "        vertical-align: top;\n",
              "    }\n",
              "\n",
              "    .dataframe thead th {\n",
              "        text-align: right;\n",
              "    }\n",
              "</style>\n",
              "<table border=\"1\" class=\"dataframe\">\n",
              "  <thead>\n",
              "    <tr style=\"text-align: right;\">\n",
              "      <th></th>\n",
              "      <th>Review Text</th>\n",
              "      <th>Rating</th>\n",
              "      <th>Class Name</th>\n",
              "      <th>Age</th>\n",
              "      <th>Word Counts</th>\n",
              "      <th>Sentiment</th>\n",
              "      <th>Logistic Regression</th>\n",
              "      <th>Naive Bayes</th>\n",
              "      <th>SVM</th>\n",
              "      <th>Neural Network</th>\n",
              "    </tr>\n",
              "  </thead>\n",
              "  <tbody>\n",
              "    <tr>\n",
              "      <th>261</th>\n",
              "      <td>This top is very cute. got it in the lighter c...</td>\n",
              "      <td>5</td>\n",
              "      <td>Blouses</td>\n",
              "      <td>50</td>\n",
              "      <td>{'also': 1, 'and': 1, 'blue': 1, 'color': 2, '...</td>\n",
              "      <td>True</td>\n",
              "      <td>True</td>\n",
              "      <td>True</td>\n",
              "      <td>True</td>\n",
              "      <td>True</td>\n",
              "    </tr>\n",
              "    <tr>\n",
              "      <th>6466</th>\n",
              "      <td>I love the color of this top. it is a dark oli...</td>\n",
              "      <td>4</td>\n",
              "      <td>Knits</td>\n",
              "      <td>44</td>\n",
              "      <td>{'and': 3, 'at': 1, 'blazer': 1, 'casual': 1, ...</td>\n",
              "      <td>True</td>\n",
              "      <td>True</td>\n",
              "      <td>True</td>\n",
              "      <td>True</td>\n",
              "      <td>True</td>\n",
              "    </tr>\n",
              "    <tr>\n",
              "      <th>9853</th>\n",
              "      <td>I like the color and design. it looked super c...</td>\n",
              "      <td>4</td>\n",
              "      <td>Dresses</td>\n",
              "      <td>32</td>\n",
              "      <td>{'and': 3, 'be': 1, 'before': 1, 'brought': 1,...</td>\n",
              "      <td>True</td>\n",
              "      <td>False</td>\n",
              "      <td>False</td>\n",
              "      <td>False</td>\n",
              "      <td>False</td>\n",
              "    </tr>\n",
              "    <tr>\n",
              "      <th>20688</th>\n",
              "      <td>I love this tunic, the detail the weight, the ...</td>\n",
              "      <td>4</td>\n",
              "      <td>Sweaters</td>\n",
              "      <td>54</td>\n",
              "      <td>{'better': 1, 'big': 1, 'but': 1, 'detail': 1,...</td>\n",
              "      <td>True</td>\n",
              "      <td>True</td>\n",
              "      <td>True</td>\n",
              "      <td>True</td>\n",
              "      <td>True</td>\n",
              "    </tr>\n",
              "    <tr>\n",
              "      <th>10497</th>\n",
              "      <td>I ordered this dress online. the colors are pr...</td>\n",
              "      <td>2</td>\n",
              "      <td>Dresses</td>\n",
              "      <td>34</td>\n",
              "      <td>{'and': 2, 'are': 2, 'baby': 1, 'bump': 1, 'ch...</td>\n",
              "      <td>False</td>\n",
              "      <td>True</td>\n",
              "      <td>True</td>\n",
              "      <td>True</td>\n",
              "      <td>False</td>\n",
              "    </tr>\n",
              "  </tbody>\n",
              "</table>\n",
              "</div>"
            ],
            "text/plain": [
              "                                             Review Text  ...  Neural Network\n",
              "261    This top is very cute. got it in the lighter c...  ...            True\n",
              "6466   I love the color of this top. it is a dark oli...  ...            True\n",
              "9853   I like the color and design. it looked super c...  ...           False\n",
              "20688  I love this tunic, the detail the weight, the ...  ...            True\n",
              "10497  I ordered this dress online. the colors are pr...  ...           False\n",
              "\n",
              "[5 rows x 10 columns]"
            ]
          },
          "metadata": {
            "tags": []
          },
          "execution_count": 10
        }
      ]
    },
    {
      "cell_type": "code",
      "metadata": {
        "colab": {
          "base_uri": "https://localhost:8080/"
        },
        "id": "iVwUosOCgOOv",
        "outputId": "90db863a-b44a-40fd-e3eb-f00e7ba9e045"
      },
      "source": [
        "from sklearn.metrics import accuracy_score\n",
        "accuracy_score_lr = accuracy_score(y_test, df2['Logistic Regression'])\n",
        "accuracy_score_nb = accuracy_score(y_test, df2['Naive Bayes'])\n",
        "accuracy_score_svm = accuracy_score(y_test, df2['SVM'])\n",
        "accuracy_score_nn = accuracy_score(y_test, df2['Neural Network'])\n",
        "\n",
        "\n",
        "print('Logistic Regression : ', accuracy_score_lr)\n",
        "print('Naive Bayes : ', accuracy_score_nb)\n",
        "print('SVC : ', accuracy_score_svm)\n",
        "print('Neural Network : ', accuracy_score_nn)"
      ],
      "execution_count": null,
      "outputs": [
        {
          "output_type": "stream",
          "text": [
            "Logistic Regression :  0.9396070822216832\n",
            "Naive Bayes :  0.9417899587678875\n",
            "SVC :  0.9289352413291293\n",
            "Neural Network :  0.9342711617754063\n"
          ],
          "name": "stdout"
        }
      ]
    }
  ]
}